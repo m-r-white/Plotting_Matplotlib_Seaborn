{
 "cells": [
  {
   "cell_type": "markdown",
   "metadata": {},
   "source": [
    "# Matplotlib and Seaborn plotting"
   ]
  },
  {
   "cell_type": "markdown",
   "metadata": {},
   "source": [
    "datasets:\n",
    "\n",
    "- `salary.csv` -- a dataset comparing salary data across gender and tenure lines for academics \n",
    "- `wine_quality.csv` -- a dataset comparing chemical qualities of red and white wine and user-rated quality scores (on a 10 point scale)\n",
    "\n",
    "\n",
    "##### Workflow Tips\n",
    "\n",
    "1. Open the data and do a quick EDA:\n",
    "  - How many rows and columns?\n",
    "  - Is there missing data?\n",
    "  - What do each of the columns mean?\n",
    "2. Begin plotting:\n",
    "  - If a variable of interest is encoded as a string, do some feature extraction / transformation to turn it into numeric values\n",
    "  - Use something like seaborn's pairplot to visualize overall relationships\n",
    "  - Start digging into a bivariate relationship\n",
    "3. Refine plots:\n",
    "  - Try different plotting types / plotting options\n",
    "  - Remember titles, axes labels, etc.\n",
    "  - Does the plot have a story? What should a reader take away from the plot?"
   ]
  },
  {
   "cell_type": "code",
   "execution_count": null,
   "metadata": {
    "collapsed": true
   },
   "outputs": [],
   "source": [
    "import numpy as np\n",
    "import pandas as pd\n",
    "import matplotlib.pyplot as plt\n",
    "import seaborn as sns\n",
    "%matplotlib inline"
   ]
  },
  {
   "cell_type": "markdown",
   "metadata": {},
   "source": [
    "# Salary"
   ]
  },
  {
   "cell_type": "code",
   "execution_count": null,
   "metadata": {},
   "outputs": [],
   "source": [
    "salary = pd.read_csv('datasets/salary.csv')\n",
    "salary.head()"
   ]
  },
  {
   "cell_type": "code",
   "execution_count": null,
   "metadata": {},
   "outputs": [],
   "source": [
    "d = {'doctorate': True, 'masters': False}\n",
    "salary['dg'].map(d)\n",
    "\n",
    "any(salary['dg'])"
   ]
  },
  {
   "cell_type": "code",
   "execution_count": null,
   "metadata": {},
   "outputs": [],
   "source": [
    "salary['dg']"
   ]
  },
  {
   "cell_type": "code",
   "execution_count": null,
   "metadata": {},
   "outputs": [],
   "source": [
    "salary.info"
   ]
  },
  {
   "cell_type": "code",
   "execution_count": null,
   "metadata": {},
   "outputs": [],
   "source": [
    "salary['yr'].max()"
   ]
  },
  {
   "cell_type": "code",
   "execution_count": null,
   "metadata": {},
   "outputs": [],
   "source": [
    "salary['dg']"
   ]
  },
  {
   "cell_type": "code",
   "execution_count": null,
   "metadata": {},
   "outputs": [],
   "source": [
    "sns.distplot(salary['sl'], kde=False)"
   ]
  },
  {
   "cell_type": "code",
   "execution_count": null,
   "metadata": {},
   "outputs": [],
   "source": [
    "sns.barplot(x='sx', y='sl', data=salary)"
   ]
  },
  {
   "cell_type": "code",
   "execution_count": null,
   "metadata": {},
   "outputs": [],
   "source": [
    "corr_salary = salary[['sx', 'rk', 'yr', 'dg', 'yd', 'sl']].corr()\n",
    "corr_salary"
   ]
  },
  {
   "cell_type": "code",
   "execution_count": null,
   "metadata": {},
   "outputs": [],
   "source": [
    "corr_salary = salary[['yr', 'yd']].corr()\n",
    "corr_salary"
   ]
  },
  {
   "cell_type": "code",
   "execution_count": null,
   "metadata": {},
   "outputs": [],
   "source": [
    "sns.heatmap(corr_salary, annot=True)"
   ]
  },
  {
   "cell_type": "code",
   "execution_count": null,
   "metadata": {},
   "outputs": [],
   "source": [
    "sns.violinplot(x='yr', y='yd', hue='sx', data=salary)"
   ]
  },
  {
   "cell_type": "code",
   "execution_count": null,
   "metadata": {},
   "outputs": [],
   "source": [
    "sns.pairplot(salary[['sx', 'rk', 'yr', 'dg', 'yd', 'sl']])"
   ]
  },
  {
   "cell_type": "code",
   "execution_count": null,
   "metadata": {},
   "outputs": [],
   "source": [
    "sns.jointplot(x='yr', y='sl', data=salary, kind='kde')"
   ]
  },
  {
   "cell_type": "markdown",
   "metadata": {},
   "source": [
    "# Wine Quality"
   ]
  },
  {
   "cell_type": "code",
   "execution_count": null,
   "metadata": {},
   "outputs": [],
   "source": [
    "wine = pd.read_csv('datasets/wine_quality.csv')\n",
    "wine.head()"
   ]
  },
  {
   "cell_type": "code",
   "execution_count": null,
   "metadata": {},
   "outputs": [],
   "source": [
    "wine.info()"
   ]
  },
  {
   "cell_type": "code",
   "execution_count": null,
   "metadata": {},
   "outputs": [],
   "source": [
    "wine.columns"
   ]
  },
  {
   "cell_type": "code",
   "execution_count": null,
   "metadata": {},
   "outputs": [],
   "source": [
    "corr_wine = wine[['quality','fixed acidity', 'volatile acidity', 'citric acid', 'residual sugar',\n",
    "       'chlorides', 'free sulfur dioxide', 'total sulfur dioxide', 'density',\n",
    "       'pH', 'sulphates', 'alcohol', 'type']].corr()\n",
    "corr_wine"
   ]
  },
  {
   "cell_type": "code",
   "execution_count": null,
   "metadata": {},
   "outputs": [],
   "source": [
    "sns.heatmap(corr_wine, annot=True)"
   ]
  },
  {
   "cell_type": "code",
   "execution_count": null,
   "metadata": {},
   "outputs": [],
   "source": [
    "sns.pairplot(wine[['fixed acidity', 'volatile acidity', 'citric acid', 'residual sugar',\n",
    "       'chlorides', 'free sulfur dioxide', 'total sulfur dioxide', 'density',\n",
    "       'pH', 'sulphates', 'alcohol', 'quality', 'type']])"
   ]
  },
  {
   "cell_type": "code",
   "execution_count": null,
   "metadata": {},
   "outputs": [],
   "source": [
    "sns.jointplot(x='quality', y='alcohol', data=wine)"
   ]
  },
  {
   "cell_type": "code",
   "execution_count": null,
   "metadata": {},
   "outputs": [],
   "source": [
    "sns.violinplot(x='quality', y='alcohol', data=wine)"
   ]
  },
  {
   "cell_type": "code",
   "execution_count": null,
   "metadata": {},
   "outputs": [],
   "source": [
    "fig = plt.figure() # Instantiates a figure, which will be empty\n",
    "ax = fig.add_subplot(1, 1, 1) # Adds a subplot (read, axes) to the figure\n",
    "\n",
    "# ## Set different aspects of the graph by calling methods on the axes\n",
    "ax.set_xlim([0.5, 4.5]) # Set the minimum and maximum of x-axis to be 0.5 and 4.5\n",
    "ax.set_ylim([5, 32]) # Set the min and max of the y-axis. Minimum value comes first, followed by the maximum\n",
    "ax.set_title('An Example Graph') # Set the title of the graph.\n",
    "ax.set_ylabel('y-axis') # Set the label on the y-axis. \n",
    "ax.set_xlabel('x-axis') # and on the x-axis"
   ]
  },
  {
   "cell_type": "code",
   "execution_count": null,
   "metadata": {},
   "outputs": [],
   "source": [
    "wine.hist(bins=10)"
   ]
  },
  {
   "cell_type": "code",
   "execution_count": null,
   "metadata": {},
   "outputs": [],
   "source": [
    "sns.barplot(x='alcohol', y='quality', data=wine)"
   ]
  },
  {
   "cell_type": "code",
   "execution_count": null,
   "metadata": {},
   "outputs": [],
   "source": [
    "sns.violinplot(x='alcohol', y='quality', data=wine)"
   ]
  },
  {
   "cell_type": "code",
   "execution_count": null,
   "metadata": {},
   "outputs": [],
   "source": [
    "wine.plot('quality', 'alcohol', kind='scatter')\n",
    "#ax.scatter([4.2, 3.8, 2.5, 3.5], [11, 25, 9, 26], color='darkgreen', marker='^') # Plot scatter points on Axes"
   ]
  },
  {
   "cell_type": "markdown",
   "metadata": {},
   "source": [
    "# Matplotlib"
   ]
  },
  {
   "cell_type": "markdown",
   "metadata": {},
   "source": [
    "Datasets\n",
    "\n",
    "- [datasets/data_atlanta.csv](./datasets/data_atlanta.csv)\n",
    "- [datasets/data_austin.csv](./datasets/data_austin.csv)\n",
    "- [datasets/data_boston.csv](./datasets/data_boston.csv)\n",
    "- [datasets/data_chicago.csv](./datasets/data_chicago.csv)\n",
    "- [datasets/data_nyc.csv](./datasets/data_nyc.csv)"
   ]
  },
  {
   "cell_type": "code",
   "execution_count": null,
   "metadata": {
    "collapsed": true
   },
   "outputs": [],
   "source": [
    "import matplotlib.pyplot as plt\n",
    "%matplotlib inline"
   ]
  },
  {
   "cell_type": "code",
   "execution_count": null,
   "metadata": {},
   "outputs": [],
   "source": [
    "x = [1,2,3,4]                       # define data\n",
    "y = [20, 21, 20.5, 20.8]\n",
    "plt.plot(x, y)                      # plot a line graph\n",
    "plt.savefig('graph1.png')           # save figure to file"
   ]
  },
  {
   "cell_type": "code",
   "execution_count": null,
   "metadata": {},
   "outputs": [],
   "source": [
    "# In matplotlib, feed in two lists of numbers. \n",
    "# The first list is the x-coordinates of each point\n",
    "# The second list is the y-coordinates of each point\n",
    "# In the below case, the first bar (0th index) sits at:\n",
    "# (0, 15) -> 0 on the x-axis, height of 15.\n",
    "\n",
    "ax.bar([0, 1, 2, 3], [15, 30, 6, 8], color='purple') # Plot 4 bars on Axes. \n",
    "\n",
    "# We can ask Python to show us the graph, but if we're in a script, it's usually easier to have it save to file and look at it that way\n",
    "\n",
    "# plt.savefig('bar_chart.png') # Save current figure to current working directory\n",
    "# We'll plot a line graph next -- just like with bar graphs, this is in [X-coordinates], [Y-coordinates] format\n",
    "# the first point is (1, 10) or 1 on the x-axis and 10 on the y-axis\n",
    "\n",
    "ax.plot([1, 2, 3, 4], [10, 20, 25, 30], color='lightblue', linewidth=3) \n",
    "\n",
    "# plt.savefig('line_graph_too.png')\n",
    "\n",
    "# Until we clear out the current graph from memory, we'll keep adding stuff on top of it.\n",
    "# Finally, we'll add a scatter plot\n",
    "\n",
    "ax.scatter([4.2, 3.8, 2.5, 3.5], [11, 25, 9, 26], color='darkgreen', marker='^') # Plot scatter points on Axes\n",
    "# plt.savefig('final_graph.png')\n",
    "\n",
    "# How do we clear out the current graph?\n",
    "\n",
    "# plt.clf()"
   ]
  },
  {
   "cell_type": "code",
   "execution_count": null,
   "metadata": {
    "collapsed": true
   },
   "outputs": [],
   "source": [
    "# Clear the current graph\n",
    "# plt.clf()"
   ]
  },
  {
   "cell_type": "markdown",
   "metadata": {},
   "source": [
    "## Full Matplotlib\n",
    "\n",
    "In this section, we'll build up a 3x3 grid of different plots to investigate some different parts of matplotlib syntax"
   ]
  },
  {
   "cell_type": "code",
   "execution_count": null,
   "metadata": {
    "collapsed": true
   },
   "outputs": [],
   "source": [
    "import matplotlib.pyplot as plt\n",
    "from mpl_toolkits.mplot3d import Axes3D\n",
    "import numpy as np\n",
    "\n",
    "np.random.seed(2017) # This ensures that we all get the same \"random\" numbers"
   ]
  },
  {
   "cell_type": "markdown",
   "metadata": {},
   "source": [
    "Boxplot, Violin Plot, Histogram\n",
    "\n",
    "Pie Chart, Stacked Bar Chart, Line Chart\n",
    "\n",
    "Scatter Plot, Stem Plot, 3D Scatter"
   ]
  },
  {
   "cell_type": "code",
   "execution_count": null,
   "metadata": {},
   "outputs": [],
   "source": [
    "fig = plt.figure(figsize=(20,16), dpi=300)\n",
    "\n",
    "all_data = [np.random.normal(0, std, 100) for std in range(1, 7)]\n",
    "\n",
    "ax1 = plt.subplot(3, 3, 1)\n",
    "ax1.set_title('Plot 1: Box Plot')\n",
    "ax1.set_ylabel('Y-axis')\n",
    "ax1.set_xlabel('X-axis')\n",
    "\n",
    "## Set up boxplot. \n",
    "boxplot = ax1.boxplot(all_data, patch_artist=True)\n",
    "colors = ['lightblue', 'pink', 'lightgreen', \n",
    "        'lightyellow', 'lightgray', 'orange']\n",
    "for patch, color in zip(boxplot['boxes'], colors):\n",
    "    patch.set_facecolor(color)\n",
    "\n",
    "## Violin Plots (http://matplotlib.org/examples/statistics/customized_violin_demo.html)\n",
    "\n",
    "ax2 = plt.subplot(3, 3, 2)\n",
    "ax2.set_title('Plot 2: Violin Plot')\n",
    "ax2.set_ylabel('Y-axis')\n",
    "ax2.set_xlabel('X-axis')\n",
    "\n",
    "violinplot = ax2.violinplot(all_data)\n",
    "\n",
    "## Histograms (http://matplotlib.org/examples/statistics/histogram_demo_features.html)\n",
    "\n",
    "ax3 = plt.subplot(3, 3, 3)\n",
    "ax3.set_title('Plot 3: Histogram')\n",
    "ax3.set_ylabel('Y-axis')\n",
    "ax3.set_xlabel('X-axis')\n",
    "\n",
    "histogram = ax3.hist(all_data[0], bins=10, color='pink', edgecolor='black')\n",
    "\n",
    "## Pie Charts (DO NOT MAKE THESE!) (http://matplotlib.org/examples/pie_and_polar_charts/pie_demo_features.html)\n",
    "\n",
    "ax4 = plt.subplot(3, 3, 4)\n",
    "ax4.set_title('Plot 4: Pie Charts - DO NOT MAKE THESE')\n",
    "ax4.axis('equal') # Makes sure circle is circle\n",
    "\n",
    "pie_labels = ['Inappropriate', 'Arguable', 'Appropriate']\n",
    "sizes = [70, 20, 10]\n",
    "explode_ratio = (0, 0, 0.25)\n",
    "\n",
    "piechart = ax4.pie(sizes, explode=explode_ratio, labels=pie_labels, autopct='%1.1f%%')\n",
    "\n",
    "## Stacked Bar Chart\n",
    "\n",
    "ax5 = plt.subplot(3, 3, 5)\n",
    "ax5.set_title('Plot 5: Stacked Bar Chart')\n",
    "ax5.set_ylabel('Y-axis')\n",
    "ax5.set_xlabel('X-axis')\n",
    "\n",
    "xs = [x for x in range(1, 6)]\n",
    "y1 = [2, 4, 6, 2, 10]\n",
    "y2 = [4, 0, 6, 15, 2]\n",
    "\n",
    "bottom_bar = ax5.bar(xs, y1, color='red')\n",
    "top_bar = ax5.bar(xs, y2, bottom=y1, color='blue')\n",
    "\n",
    "# ## Line Chart\n",
    "\n",
    "ax6 = plt.subplot(3, 3, 6)\n",
    "ax6.set_title('Plot 6: Line Chats')\n",
    "ax6.set_ylabel('Y-axis')\n",
    "ax6.set_xlabel('X-axis')\n",
    "\n",
    "xs = [x for x in range(1, 101)]\n",
    "\n",
    "first_line = ax6.plot(xs, all_data[0], color='red')\n",
    "second_line = ax6.plot(xs, all_data[1], color='blue')\n",
    "third_line = ax6.plot(xs, all_data[4], color='green')\n",
    "fourth_line = ax6.plot(xs, all_data[5], color='black')\n",
    "\n",
    "## Scatter Plot\n",
    "\n",
    "ax7 = plt.subplot(3, 3, 7)\n",
    "ax7.set_title('Plot 7: Scatterplots')\n",
    "ax7.set_ylabel('Y-axis')\n",
    "ax7.set_xlabel('X-axis')\n",
    "\n",
    "scatter = ax7.scatter(all_data[0], all_data[5])\n",
    "\n",
    "## Stem Plot (http://matplotlib.org/examples/pylab_examples/stem_plot.html)\n",
    "\n",
    "ax8 = plt.subplot(3, 3, 8)\n",
    "ax8.set_title('Plot 8: Stem Plot')\n",
    "ax8.set_ylabel('Y-axis')\n",
    "ax8.set_xlabel('X-axis')\n",
    "\n",
    "x_data = [x for x in range(1, 101)]\n",
    "\n",
    "stemplot = ax8.stem(x_data, np.sort(all_data[0]))\n",
    "\n",
    "## 3D scatter plot (http://matplotlib.org/examples/mplot3d/scatter3d_demo.html)\n",
    "\n",
    "ax9 = plt.subplot(3, 3, 9, projection='3d')\n",
    "ax9.set_title('Plot 9: 3D Scatter Plot')\n",
    "ax9.set_ylabel('Y-axis')\n",
    "ax9.set_xlabel('X-axis')\n",
    "ax9.set_zlabel('Z-axis')\n",
    "\n",
    "scatter_3d1 = ax9.scatter(all_data[0], all_data[1], all_data[2], \n",
    "    color='red', marker='*')\n",
    "scatter_3d2 = ax9.scatter(all_data[3], all_data[4], all_data[5],\n",
    "    color='blue', marker='^')\n",
    "\n",
    "plt.show()"
   ]
  },
  {
   "cell_type": "markdown",
   "metadata": {},
   "source": [
    "Cleaning up"
   ]
  },
  {
   "cell_type": "code",
   "execution_count": null,
   "metadata": {},
   "outputs": [],
   "source": [
    "fig = plt.figure(figsize=(20,16), dpi=300)\n",
    "\n",
    "all_data = [np.random.normal(0, std, 100) for std in range(1, 7)]\n",
    "\n",
    "ax1 = plt.subplot(3, 3, 1)\n",
    "ax1.set_title('Plot 1: Box Plot')\n",
    "ax1.set_ylabel('Y-axis')\n",
    "ax1.set_xlabel('X-axis')\n",
    "\n",
    "## Set up boxplot.\n",
    "boxplot = ax1.boxplot(all_data, patch_artist=True)\n",
    "colors = ['lightblue', 'pink', 'lightgreen', \n",
    "        'lightyellow', 'lightgray', 'orange']\n",
    "for patch, color in zip(boxplot['boxes'], colors):\n",
    "    patch.set_facecolor(color)\n",
    "\n",
    "## Violin Plots (http://matplotlib.org/examples/statistics/customized_violin_demo.html)\n",
    "\n",
    "ax2 = plt.subplot(3, 3, 2)\n",
    "ax2.set_title('Plot 2: Violin Plot')\n",
    "ax2.set_ylabel('Y-axis')\n",
    "ax2.set_xlabel('X-axis')\n",
    "\n",
    "violinplot = ax2.violinplot(all_data)\n",
    "\n",
    "## Histograms (http://matplotlib.org/examples/statistics/histogram_demo_features.html)\n",
    "\n",
    "ax3 = plt.subplot(3, 3, 3)\n",
    "ax3.set_title('Plot 3: Histogram')\n",
    "ax3.set_ylabel('Y-axis')\n",
    "ax3.set_xlabel('X-axis')\n",
    "\n",
    "histogram = ax3.hist(all_data[0], bins=10, color='pink', edgecolor='black')\n",
    "\n",
    "## Pie Charts (DO NOT MAKE THESE!) (http://matplotlib.org/examples/pie_and_polar_charts/pie_demo_features.html)\n",
    "\n",
    "ax4 = plt.subplot(3, 3, 4)\n",
    "ax4.set_title('Plot 4: Pie Charts - DO NOT MAKE THESE')\n",
    "ax4.axis('equal') # Makes sure circle is circle\n",
    "\n",
    "pie_labels = ['Inappropriate', 'Arguable', 'Appropriate']\n",
    "sizes = [70, 20, 10]\n",
    "explode_ratio = (0, 0, 0.25)\n",
    "\n",
    "piechart = ax4.pie(sizes, explode=explode_ratio, labels=pie_labels, autopct='%1.1f%%')\n",
    "\n",
    "## Stacked Bar Chart\n",
    "\n",
    "ax5 = plt.subplot(3, 3, 5)\n",
    "ax5.set_title('Plot 5: Stacked Bar Chart')\n",
    "ax5.set_ylabel('Y-axis')\n",
    "ax5.set_xlabel('X-axis')\n",
    "\n",
    "xs = [x for x in range(1, 6)]\n",
    "y1 = [2, 4, 6, 2, 10]\n",
    "y2 = [4, 0, 6, 15, 2]\n",
    "\n",
    "bottom_bar = ax5.bar(xs, y1, color='red')\n",
    "top_bar = ax5.bar(xs, y2, bottom=y1, color='blue')\n",
    "\n",
    "# ## Line Chart\n",
    "\n",
    "ax6 = plt.subplot(3, 3, 6)\n",
    "ax6.set_title('Plot 6: Line Chats')\n",
    "ax6.set_ylabel('Y-axis')\n",
    "ax6.set_xlabel('X-axis')\n",
    "\n",
    "xs = [x for x in range(1, 101)]\n",
    "\n",
    "first_line = ax6.plot(xs, all_data[0], color='red')\n",
    "second_line = ax6.plot(xs, all_data[1], color='blue')\n",
    "third_line = ax6.plot(xs, all_data[4], color='green')\n",
    "fourth_line = ax6.plot(xs, all_data[5], color='black')\n",
    "\n",
    "## Scatter Plot\n",
    "\n",
    "ax7 = plt.subplot(3, 3, 7)\n",
    "ax7.set_title('Plot 7: Scatterplots')\n",
    "ax7.set_ylabel('Y-axis')\n",
    "ax7.set_xlabel('X-axis')\n",
    "\n",
    "scatter = ax7.scatter(all_data[0], all_data[5])\n",
    "\n",
    "## Stem Plot (http://matplotlib.org/examples/pylab_examples/stem_plot.html)\n",
    "\n",
    "ax8 = plt.subplot(3, 3, 8)\n",
    "ax8.set_title('Plot 8: Stem Plot')\n",
    "ax8.set_ylabel('Y-axis')\n",
    "ax8.set_xlabel('X-axis')\n",
    "\n",
    "x_data = [x for x in range(1, 101)]\n",
    "\n",
    "stemplot = ax8.stem(x_data, np.sort(all_data[0]))\n",
    "\n",
    "## 3D scatter plot (http://matplotlib.org/examples/mplot3d/scatter3d_demo.html)\n",
    "\n",
    "ax9 = plt.subplot(3, 3, 9, projection='3d')\n",
    "ax9.set_title('Plot 9: 3D Scatter Plot')\n",
    "ax9.set_ylabel('Y-axis')\n",
    "ax9.set_xlabel('X-axis')\n",
    "ax9.set_zlabel('Z-axis')\n",
    "\n",
    "scatter_3d1 = ax9.scatter(all_data[0], all_data[1], all_data[2], \n",
    "    color='red', marker='*')\n",
    "scatter_3d2 = ax9.scatter(all_data[3], all_data[4], all_data[5],\n",
    "    color='blue', marker='^')\n",
    "\n",
    "plt.tight_layout() # To make things neater\n",
    "\n",
    "size = fig.get_size_inches()\n",
    "print(size)\n",
    "print(size*fig.dpi)\n",
    "\n",
    "plt.savefig('chart_types.png') # to save the plot\n",
    "\n",
    "plt.show()"
   ]
  },
  {
   "cell_type": "markdown",
   "metadata": {},
   "source": [
    "## Seaborn"
   ]
  },
  {
   "cell_type": "code",
   "execution_count": null,
   "metadata": {
    "collapsed": true
   },
   "outputs": [],
   "source": [
    "#\n",
    "import numpy as np\n",
    "import pandas as pd\n",
    "import matplotlib.pyplot as plt\n",
    "import seaborn as sns\n",
    "%matplotlib inline"
   ]
  },
  {
   "cell_type": "markdown",
   "metadata": {},
   "source": [
    "# Import the data\n",
    "\n",
    "This census data comes from a 1994 census found [here](http://archive.ics.uci.edu/ml/datasets/Adult)"
   ]
  },
  {
   "cell_type": "code",
   "execution_count": null,
   "metadata": {},
   "outputs": [],
   "source": [
    "df = pd.read_csv('census_data.csv')\n",
    "df.head()"
   ]
  },
  {
   "cell_type": "markdown",
   "metadata": {},
   "source": [
    "# Univariate Plotting in Seaborn"
   ]
  },
  {
   "cell_type": "markdown",
   "metadata": {},
   "source": [
    "Using Seaborn's [`distplot`](https://seaborn.pydata.org/generated/seaborn.distplot.html)"
   ]
  },
  {
   "cell_type": "code",
   "execution_count": null,
   "metadata": {},
   "outputs": [],
   "source": [
    "sns.distplot(df['age'])"
   ]
  },
  {
   "cell_type": "markdown",
   "metadata": {},
   "source": [
    "Sometimes we want the full distribution and not the [Kernel Density Estimate](https://en.wikipedia.org/wiki/Kernel_density_estimation)"
   ]
  },
  {
   "cell_type": "code",
   "execution_count": null,
   "metadata": {},
   "outputs": [],
   "source": [
    "sns.distplot(df['age'], kde=False)"
   ]
  },
  {
   "cell_type": "markdown",
   "metadata": {},
   "source": [
    "Notice the scale of the y-axis changing to counts of occurances"
   ]
  },
  {
   "cell_type": "markdown",
   "metadata": {},
   "source": [
    "Using Seaborn's [barplot](https://seaborn.pydata.org/generated/seaborn.barplot.html)"
   ]
  },
  {
   "cell_type": "code",
   "execution_count": null,
   "metadata": {},
   "outputs": [],
   "source": [
    "sns.barplot(x='race', y='capital_gain', data=df, )"
   ]
  },
  {
   "cell_type": "markdown",
   "metadata": {},
   "source": [
    "_Using two categories_"
   ]
  },
  {
   "cell_type": "code",
   "execution_count": null,
   "metadata": {},
   "outputs": [],
   "source": [
    "sns.barplot(x='race', y='capital_gain', hue='sex', data=df)"
   ]
  },
  {
   "cell_type": "markdown",
   "metadata": {},
   "source": [
    "_Compare this to `matplotlib`_"
   ]
  },
  {
   "cell_type": "code",
   "execution_count": null,
   "metadata": {
    "collapsed": true
   },
   "outputs": [],
   "source": [
    "races = df['race'].unique()\n",
    "averages = [df.loc[(df['race'] == race), 'capital_gain'].mean() for race in races]"
   ]
  },
  {
   "cell_type": "code",
   "execution_count": null,
   "metadata": {},
   "outputs": [],
   "source": [
    "ax = plt.subplot()\n",
    "ax.bar(range(len(averages)), averages)\n",
    "ax.set_xticks(range(len(averages)))\n",
    "ax.set_xticklabels(races)\n",
    "plt.show()"
   ]
  },
  {
   "cell_type": "markdown",
   "metadata": {},
   "source": [
    "# Bivariate Plotting in Seaborn"
   ]
  },
  {
   "cell_type": "markdown",
   "metadata": {},
   "source": [
    "Using Seaborn's [heatmap](https://seaborn.pydata.org/generated/seaborn.heatmap.html)\n",
    "\n",
    "This style of plotting is best used to help visualize a dense table of information, such as a correlation table"
   ]
  },
  {
   "cell_type": "code",
   "execution_count": null,
   "metadata": {},
   "outputs": [],
   "source": [
    "df.head()"
   ]
  },
  {
   "cell_type": "code",
   "execution_count": null,
   "metadata": {},
   "outputs": [],
   "source": [
    "df['over50k'] = df['income_dummy'].apply(lambda x: 1 if x == ' >50K' else 0)\n",
    "corr_df = df[['age', 'ednum', 'capital_gain', 'capital_loss', 'hours_per_week', 'over50k']].corr()\n",
    "corr_df"
   ]
  },
  {
   "cell_type": "code",
   "execution_count": null,
   "metadata": {},
   "outputs": [],
   "source": [
    "sns.heatmap(corr_df)"
   ]
  },
  {
   "cell_type": "code",
   "execution_count": null,
   "metadata": {},
   "outputs": [],
   "source": [
    "sns.heatmap(corr_df, annot=True)"
   ]
  },
  {
   "cell_type": "markdown",
   "metadata": {},
   "source": [
    "Plot half of the correlation heat map"
   ]
  },
  {
   "cell_type": "code",
   "execution_count": null,
   "metadata": {},
   "outputs": [],
   "source": [
    "mask = np.zeros_like(corr_df, dtype=np.bool)\n",
    "mask[np.triu_indices_from(mask)] = True\n",
    "sns.heatmap(corr_df, annot=True, mask=mask)"
   ]
  },
  {
   "cell_type": "markdown",
   "metadata": {},
   "source": [
    "Using Seaborn's [boxplot](https://seaborn.pydata.org/generated/seaborn.boxplot.html)"
   ]
  },
  {
   "cell_type": "markdown",
   "metadata": {},
   "source": [
    "_Univariate Distribution_"
   ]
  },
  {
   "cell_type": "code",
   "execution_count": null,
   "metadata": {},
   "outputs": [],
   "source": [
    "sns.boxplot(df['ednum'])"
   ]
  },
  {
   "cell_type": "markdown",
   "metadata": {},
   "source": [
    "_Grouped by a categorical variable_"
   ]
  },
  {
   "cell_type": "code",
   "execution_count": null,
   "metadata": {},
   "outputs": [],
   "source": [
    "sns.boxplot(x='income_dummy', y='ednum', data=df)"
   ]
  },
  {
   "cell_type": "markdown",
   "metadata": {},
   "source": [
    "_Grouped by *two* categorical variables_"
   ]
  },
  {
   "cell_type": "code",
   "execution_count": null,
   "metadata": {},
   "outputs": [],
   "source": [
    "sns.boxplot(x='income_dummy', y='ednum', hue='sex', data=df)"
   ]
  },
  {
   "cell_type": "markdown",
   "metadata": {},
   "source": [
    "Using Seaborn's [violin plots](https://seaborn.pydata.org/generated/seaborn.violinplot.html) to do the same thing"
   ]
  },
  {
   "cell_type": "code",
   "execution_count": null,
   "metadata": {},
   "outputs": [],
   "source": [
    "sns.violinplot(df['ednum'])"
   ]
  },
  {
   "cell_type": "code",
   "execution_count": null,
   "metadata": {},
   "outputs": [],
   "source": [
    "sns.violinplot(x='income_dummy', y='ednum', data=df)44"
   ]
  },
  {
   "cell_type": "code",
   "execution_count": null,
   "metadata": {},
   "outputs": [],
   "source": [
    "sns.violinplot(x='income_dummy', y='ednum', hue='sex', data=df)"
   ]
  },
  {
   "cell_type": "markdown",
   "metadata": {},
   "source": [
    "Using Seaborn's [pairplot](https://seaborn.pydata.org/generated/seaborn.pairplot.html)"
   ]
  },
  {
   "cell_type": "code",
   "execution_count": null,
   "metadata": {},
   "outputs": [],
   "source": [
    "sns.pairplot(df[['age', 'ednum', 'capital_gain', 'capital_loss', 'hours_per_week', 'over50k']])"
   ]
  },
  {
   "cell_type": "markdown",
   "metadata": {},
   "source": [
    "Using Seaborn's [jointplot](https://seaborn.pydata.org/generated/seaborn.jointplot.html)"
   ]
  },
  {
   "cell_type": "code",
   "execution_count": null,
   "metadata": {},
   "outputs": [],
   "source": [
    "sns.jointplot(x='age', y='ednum', data=df)"
   ]
  },
  {
   "cell_type": "markdown",
   "metadata": {},
   "source": [
    "Using `kind='kde'` or `kind='hex'` can help with densly packed data"
   ]
  },
  {
   "cell_type": "code",
   "execution_count": null,
   "metadata": {},
   "outputs": [],
   "source": [
    "sns.jointplot(x='age', y='ednum', data=df, kind='kde')"
   ]
  },
  {
   "cell_type": "code",
   "execution_count": null,
   "metadata": {},
   "outputs": [],
   "source": [
    "sns.jointplot(x='age', y='ednum', data=df, kind='hex')"
   ]
  }
 ],
 "metadata": {
  "kernelspec": {
   "display_name": "Python 3",
   "language": "python",
   "name": "python3"
  },
  "language_info": {
   "codemirror_mode": {
    "name": "ipython",
    "version": 3
   },
   "file_extension": ".py",
   "mimetype": "text/x-python",
   "name": "python",
   "nbconvert_exporter": "python",
   "pygments_lexer": "ipython3",
   "version": "3.5.3"
  }
 },
 "nbformat": 4,
 "nbformat_minor": 2
}
